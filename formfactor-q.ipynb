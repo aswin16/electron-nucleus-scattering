{
 "cells": [
  {
   "cell_type": "code",
   "execution_count": 1,
   "metadata": {},
   "outputs": [],
   "source": [
    "# electron-nucleus elastic scattering\n",
    "# witten by Aswin\n",
    "# 11 July 2020\n",
    "\n",
    "\n",
    "#importing necessary packages\n",
    "import numpy as np   #matrix manipulation\n",
    "import scipy as sp   # scientific python\n",
    "import matplotlib.pyplot as plt # visualization\n",
    "from scipy.integrate import quad # integration\n",
    "from scipy.special import expit\n",
    "\n",
    "\n"
   ]
  },
  {
   "cell_type": "code",
   "execution_count": 32,
   "metadata": {},
   "outputs": [],
   "source": [
    "#fundamental constants \n",
    "# in natural units\n",
    "\n",
    "h_= 1 #hbar\n",
    "e = 0.303 #charge of electron\n",
    "\n",
    "\n",
    "#***fn to plot form factor vs momentum transfer**#\n",
    "\n",
    "#function arguments\n",
    "#Z - atomic number\n",
    "#d - diffusiveness of surface\n",
    "#A - mass number\n",
    "#num - resolution\n",
    "#q_lim - upper boundary for momentum transfer 'q'\n",
    "\n",
    "def plot(num,Z,d,A,q_lim):\n",
    "    \n",
    "    R = (1.18*(A**(1/3))-0.48) #half value radius in fermi -approximate relation\n",
    "    \n",
    "    #normalization constant of \n",
    "    #Woods-Saxon charge distribution\n",
    "    \n",
    "    wSax = lambda r: (r**2)/(1+expit((r-R)/d)) \n",
    "    wSax_integral,error = quad(wSax,0,np.inf)  #function call : quad - used for integration\n",
    "    rho0 = Z/(4*np.pi*wSax_integral)  #normalization constant \n",
    "    \n",
    "    \n",
    "    #########################\n",
    "    \n",
    "    \n",
    "    #plotting form factor vs momentum transfer\n",
    "   \n",
    "    integral = np.zeros(num)  # array of dimension 'num' initialized with 0\n",
    "    \n",
    "    \n",
    "        \n",
    "    Q = np.linspace(1,q_lim,num)   \n",
    "\n",
    "\n",
    "    for i in range(num):\n",
    "        \n",
    "        \n",
    "        q = Q[i]  # taking values of momentum transfer b/w 0 and q_lim\n",
    "     \n",
    "        #calculating fourier transform\n",
    "        #of woods saxon distribution\n",
    "    \n",
    "    \n",
    "        freal = lambda r :(1/Z*e)*np.cos(q*r/h_)*rho0*(1/(1+expit(r-R)/d))\n",
    "    \n",
    "        fimag = lambda r :1/(Z*e)*np.sin(q*r/h_)*rho0*(1/(1+expit((r-R)/d)))\n",
    "    \n",
    "        real_integral,error_real = quad(freal,0,30)\n",
    "        imag_integral,error_imag = quad(fimag,0,30)\n",
    "\n",
    "        \n",
    "        integral[i] = 4*np.pi*np.sqrt(np.square(real_integral)+np.square(imag_integral))  # RHS is |F|\n",
    "   \n",
    "    \n",
    "    \n",
    "    q = np.linspace(0,q_lim,num)\n",
    "\n",
    "    plt.plot(q,integral,'r')    # momentum transfer vs form factor\n",
    "    \n",
    "    \n",
    "    \n",
    "\n",
    "  \n",
    "    \n",
    "    \n",
    "    \n",
    "    "
   ]
  },
  {
   "cell_type": "code",
   "execution_count": 39,
   "metadata": {},
   "outputs": [
    {
     "name": "stderr",
     "output_type": "stream",
     "text": [
      "/usr/lib/python3/dist-packages/ipykernel_launcher.py:25: IntegrationWarning: The integral is probably divergent, or slowly convergent.\n"
     ]
    },
    {
     "data": {
      "image/png": "[encoded data removed]",
      "text/plain": [
       "<Figure size 432x288 with 1 Axes>"
      ]
     },
     "metadata": {},
     "output_type": "display_data"
    }
   ],
   "source": [
    "plot(49,20,0.5,40,10)"
   ]
  },
  {
   "cell_type": "code",
   "execution_count": null,
   "metadata": {},
   "outputs": [],
   "source": []
  }
 ],
 "metadata": {
  "kernelspec": {
   "display_name": "Python 3",
   "language": "python",
   "name": "python3"
  },
  "language_info": {
   "codemirror_mode": {
    "name": "ipython",
    "version": 3
   },
   "file_extension": ".py",
   "mimetype": "text/x-python",
   "name": "python",
   "nbconvert_exporter": "python",
   "pygments_lexer": "ipython3",
   "version": "3.6.9"
  }
 },
 "nbformat": 4,
 "nbformat_minor": 2
}
