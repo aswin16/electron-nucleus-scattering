{
 "cells": [
  {
   "cell_type": "code",
   "execution_count": 22,
   "metadata": {},
   "outputs": [],
   "source": [
    "# electron-nucleus elastic scattering\n",
    "# witten by Aswin\n",
    "# 11 July 2020\n",
    "\n",
    "\n",
    "#importing necessary packages\n",
    "import numpy as np   #matrix manipulation\n",
    "import scipy as sp   # scientific python\n",
    "import matplotlib.pyplot as plt # visualization\n",
    "from scipy.integrate import quad # integration\n",
    "from scipy.special import expit\n",
    "from integrate import comp_simpsons\n",
    "\n"
   ]
  },
  {
   "cell_type": "code",
   "execution_count": 25,
   "metadata": {},
   "outputs": [
    {
     "name": "stdout",
     "output_type": "stream",
     "text": [
      "enter the following\n",
      "num- (resolution)divisons in plot(optimum around 50),Z,A,d-diffusiveness,qlim-upper bound on q\n",
      "resolution: 49\n",
      "Z: 8\n",
      "A: 32\n",
      "d: 0.5\n",
      "q_lim: 20\n"
     ]
    },
    {
     "name": "stderr",
     "output_type": "stream",
     "text": [
      "/usr/lib/python3/dist-packages/ipykernel_launcher.py:25: IntegrationWarning: The integral is probably divergent, or slowly convergent.\n",
      "/usr/lib/python3/dist-packages/ipykernel_launcher.py:57: IntegrationWarning: The maximum number of subdivisions (50) has been achieved.\n",
      "  If increasing the limit yields no improvement it is advised to analyze \n",
      "  the integrand in order to determine the difficulties.  If the position of a \n",
      "  local difficulty can be determined (singularity, discontinuity) one will \n",
      "  probably gain from splitting up the interval and calling the integrator \n",
      "  on the subranges.  Perhaps a special-purpose integrator should be used.\n",
      "/usr/lib/python3/dist-packages/ipykernel_launcher.py:56: IntegrationWarning: The maximum number of subdivisions (50) has been achieved.\n",
      "  If increasing the limit yields no improvement it is advised to analyze \n",
      "  the integrand in order to determine the difficulties.  If the position of a \n",
      "  local difficulty can be determined (singularity, discontinuity) one will \n",
      "  probably gain from splitting up the interval and calling the integrator \n",
      "  on the subranges.  Perhaps a special-purpose integrator should be used.\n"
     ]
    },
    {
     "data": {
      "image/png": "[encoded data removed]",
      "text/plain": [
       "<Figure size 432x288 with 1 Axes>"
      ]
     },
     "metadata": {},
     "output_type": "display_data"
    }
   ],
   "source": [
    "#fundamental constants \n",
    "# in natural units\n",
    "\n",
    "h_= 1 #hbar\n",
    "e = 0.303 #charge of electron\n",
    "\n",
    "\n",
    "#***fn to plot form factor vs momentum transfer**#\n",
    "\n",
    "#function arguments\n",
    "#Z - atomic number\n",
    "#d - diffusiveness of surface\n",
    "#A - mass number\n",
    "#num - resolution\n",
    "#q_lim - upper boundary for momentum transfer 'q'\n",
    "\n",
    "def plot(num,Z,d,A,q_lim):\n",
    "    \n",
    "    R = 1.18*(A**(1/3)) #half value radius in fermi -approximate relation\n",
    "    \n",
    "    #normalization constant of \n",
    "    #Woods-Saxon charge distribution\n",
    "    \n",
    "    wSax = lambda r: (r**2)/(1+expit((r-R)/d)) \n",
    "    wSax_integral,error = quad(wSax,0,np.inf)  #function call : quad - used for integration\n",
    "    rho0 = Z/(4*np.pi*wSax_integral)  #normalization constant \n",
    "    \n",
    "    \n",
    "    #########################\n",
    "    \n",
    "    \n",
    "    #plotting form factor vs momentum transfer\n",
    "   \n",
    "    integral_quad = np.zeros(num)  # array of dimension 'num' initialized with 0\n",
    "    integral_simp = np.zeros(num)\n",
    "    \n",
    "        \n",
    "    Q = np.linspace(1,q_lim,num)   \n",
    "\n",
    "\n",
    "    for i in range(num):\n",
    "        \n",
    "        \n",
    "        q = Q[i]  # taking values of momentum transfer b/w 0 and q_lim\n",
    "     \n",
    "        #calculating fourier transform\n",
    "        #of woods saxon distribution\n",
    "    \n",
    "    \n",
    "        freal = lambda r :(1/Z*e)*np.cos(q*r/h_)*rho0*(1/(1+expit(r-R)/d))\n",
    "    \n",
    "        fimag = lambda r :1/(Z*e)*np.sin(q*r/h_)*rho0*(1/(1+expit((r-R)/d)))\n",
    "        \n",
    "        #integration using quad from scipy package\n",
    "        \n",
    "        real_integral_quad,error_real = quad(freal,0,30)\n",
    "        imag_integral_quad,error_imag = quad(fimag,0,30)\n",
    "\n",
    "        #integration using simpson\n",
    "        \n",
    "        real_integral_simp = comp_simpsons(freal,0,30,200)\n",
    "        imag_integral_simp = comp_simpsons(fimag,0,30,200)\n",
    "        \n",
    "        integral_quad[i] = 4*np.pi*np.sqrt(np.square(real_integral_quad)+np.square(imag_integral_quad))  # RHS is |F|\n",
    "   \n",
    "        integral_simp[i] = 4*np.pi*np.sqrt(np.square(real_integral_simp)+np.square(imag_integral_simp)) \n",
    "    \n",
    "    q = np.linspace(0,q_lim,num)\n",
    "    \n",
    "    plt.xlabel('q-momentum transfer in 1/fm')\n",
    "    plt.ylabel('Form factor')\n",
    "\n",
    "    plt.plot(q,integral_quad,'r')    # momentum transfer vs form factor  ,integration done using quad\n",
    "    \n",
    "    plt.plot(q,integral_simp,'b')    # integration using simpsons\n",
    "    \n",
    "\n",
    "    \n",
    "    \n",
    "    \n",
    "    \n",
    "    \n",
    "    \n",
    "    \n",
    "    \n",
    "    \n",
    "print('enter the following')\n",
    "print('num- (resolution)divisons in plot(optimum around 50),Z,A,d-diffusiveness,qlim-upper bound on q')\n",
    "\n",
    "num = input(\"resolution: \")\n",
    "\n",
    "Z = input(\"Z: \")\n",
    "\n",
    "A = input(\"A: \")\n",
    "\n",
    "d = input(\"d: \")\n",
    "\n",
    "q_lim = input(\"q_lim: \")\n",
    "\n",
    "\n",
    "\n",
    "\n",
    "plot(int(num),int(Z),float(d),int(A),float(q_lim))\n",
    "\n",
    "                               \n",
    "  \n",
    "    \n",
    "    \n",
    "    \n",
    "    "
   ]
  },
  {
   "cell_type": "code",
   "execution_count": 24,
   "metadata": {},
   "outputs": [
    {
     "name": "stderr",
     "output_type": "stream",
     "text": [
      "/usr/lib/python3/dist-packages/ipykernel_launcher.py:25: IntegrationWarning: The integral is probably divergent, or slowly convergent.\n",
      "/usr/lib/python3/dist-packages/ipykernel_launcher.py:57: IntegrationWarning: The maximum number of subdivisions (50) has been achieved.\n",
      "  If increasing the limit yields no improvement it is advised to analyze \n",
      "  the integrand in order to determine the difficulties.  If the position of a \n",
      "  local difficulty can be determined (singularity, discontinuity) one will \n",
      "  probably gain from splitting up the interval and calling the integrator \n",
      "  on the subranges.  Perhaps a special-purpose integrator should be used.\n",
      "/usr/lib/python3/dist-packages/ipykernel_launcher.py:56: IntegrationWarning: The maximum number of subdivisions (50) has been achieved.\n",
      "  If increasing the limit yields no improvement it is advised to analyze \n",
      "  the integrand in order to determine the difficulties.  If the position of a \n",
      "  local difficulty can be determined (singularity, discontinuity) one will \n",
      "  probably gain from splitting up the interval and calling the integrator \n",
      "  on the subranges.  Perhaps a special-purpose integrator should be used.\n"
     ]
    },
    {
     "data": {
      "image/png": "[encoded data removed]",
      "text/plain": [
       "<Figure size 432x288 with 1 Axes>"
      ]
     },
     "metadata": {},
     "output_type": "display_data"
    }
   ],
   "source": [
    "plot(49,8,0.5,32,20)"
   ]
  },
  {
   "cell_type": "code",
   "execution_count": null,
   "metadata": {},
   "outputs": [],
   "source": []
  }
 ],
 "metadata": {
  "kernelspec": {
   "display_name": "Python 3",
   "language": "python",
   "name": "python3"
  },
  "language_info": {
   "codemirror_mode": {
    "name": "ipython",
    "version": 3
   },
   "file_extension": ".py",
   "mimetype": "text/x-python",
   "name": "python",
   "nbconvert_exporter": "python",
   "pygments_lexer": "ipython3",
   "version": "3.6.9"
  }
 },
 "nbformat": 4,
 "nbformat_minor": 2
}
