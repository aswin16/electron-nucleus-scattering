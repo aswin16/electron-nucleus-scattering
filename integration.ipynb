{
 "cells": [
  {
   "cell_type": "code",
   "execution_count": 1,
   "metadata": {},
   "outputs": [],
   "source": [
    "import numpy as np\n",
    "import matplotlib.pyplot as plt\n",
    "\n"
   ]
  },
  {
   "cell_type": "code",
   "execution_count": 4,
   "metadata": {},
   "outputs": [],
   "source": [
    "\n",
    "\n",
    "\n",
    "def naivesimpson(f,a,b):\n",
    "    \n",
    "    m = (a+b)/2\n",
    "    \n",
    "    fa = f(a)\n",
    "    fb = f(b)\n",
    "    fm = f(m)\n",
    "    \n",
    "    integral = ((b-a)/6)*(fa +4*fm + fb)\n",
    "    \n",
    "    return integral\n",
    "    "
   ]
  },
  {
   "cell_type": "code",
   "execution_count": 5,
   "metadata": {},
   "outputs": [
    {
     "data": {
      "text/plain": [
       "1.0022798774922104"
      ]
     },
     "execution_count": 5,
     "metadata": {},
     "output_type": "execute_result"
    }
   ],
   "source": [
    "\n",
    "f1 = lambda x : np.sin(x)\n",
    "#naivesimpson(lambda x : np.sin(x),0,np.pi/2)\n",
    "\n",
    "naivesimpson(f1,0,np.pi/2)"
   ]
  },
  {
   "cell_type": "code",
   "execution_count": null,
   "metadata": {},
   "outputs": [],
   "source": [
    "def simpsons(a,b):\n",
    "    return ((b-a)/8)*(f(a) + 3*f((2*a + b)/3) + 3*f((a + 2*b)/3) + f(b))"
   ]
  },
  {
   "cell_type": "code",
   "execution_count": null,
   "metadata": {},
   "outputs": [],
   "source": [
    "f = lambda x : np.sin(x)\n",
    "simpsons(0,np.pi/2)"
   ]
  },
  {
   "cell_type": "code",
   "execution_count": 3,
   "metadata": {},
   "outputs": [],
   "source": [
    "def comp_simpsons(a,b,n):\n",
    "    \n",
    "    x = np.linspace(a,b,n)\n",
    "    \n",
    "    fx = np.zeros(n)\n",
    "    \n",
    "    h = (b-a)/n\n",
    "    \n",
    "    sumthrees = 0\n",
    "    sumtwos = 0\n",
    "    \n",
    "    for i in range(1,n-1):\n",
    "        \n",
    "        if i%3 == 0:\n",
    "            sumtwos += 2*f(x[i])\n",
    "        \n",
    "        else:\n",
    "            sumthrees += 3*f(x[i])\n",
    "            \n",
    "            \n",
    "            \n",
    "    integral = (3*h/8)*(f(x[0]) + sumtwos + sumthrees + f(x[n-1]))\n",
    "    \n",
    "    return integral\n",
    "        \n",
    "        \n",
    "    \n",
    "    \n",
    "    \n",
    "    "
   ]
  },
  {
   "cell_type": "code",
   "execution_count": 5,
   "metadata": {},
   "outputs": [
    {
     "data": {
      "text/plain": [
       "1.999999799999968"
      ]
     },
     "execution_count": 5,
     "metadata": {},
     "output_type": "execute_result"
    }
   ],
   "source": [
    "f = lambda x : np.sin(x)\n",
    "comp_simpsons(0,np.pi,10000000)"
   ]
  },
  {
   "cell_type": "code",
   "execution_count": null,
   "metadata": {},
   "outputs": [],
   "source": []
  }
 ],
 "metadata": {
  "kernelspec": {
   "display_name": "Python 3",
   "language": "python",
   "name": "python3"
  },
  "language_info": {
   "codemirror_mode": {
    "name": "ipython",
    "version": 3
   },
   "file_extension": ".py",
   "mimetype": "text/x-python",
   "name": "python",
   "nbconvert_exporter": "python",
   "pygments_lexer": "ipython3",
   "version": "3.6.9"
  }
 },
 "nbformat": 4,
 "nbformat_minor": 2
}
